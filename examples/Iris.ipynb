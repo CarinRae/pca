{
 "cells": [
  {
   "cell_type": "markdown",
   "metadata": {},
   "source": [
    "PCA example with Iris dataset\n",
    "---"
   ]
  },
  {
   "cell_type": "code",
   "execution_count": 41,
   "metadata": {
    "collapsed": false
   },
   "outputs": [
    {
     "data": {
      "text/plain": [
       "false"
      ]
     },
     "execution_count": 41,
     "metadata": {},
     "output_type": "execute_result"
    }
   ],
   "source": [
    "require '../lib/pca'\n",
    "require 'nyaplot'\n",
    "require './nmatrix_ext' # enable non-contiguous row selection\n",
    "require 'csv'"
   ]
  },
  {
   "cell_type": "code",
   "execution_count": 42,
   "metadata": {
    "collapsed": false
   },
   "outputs": [
    {
     "data": {
      "text/html": [
       "<table><tr><td>5.1</td><td>3.5</td><td>1.4</td><td>0.2</td><td>Iris-setosa</td></tr><tr><td>4.9</td><td>3.0</td><td>1.4</td><td>0.2</td><td>Iris-setosa</td></tr><tr><td>4.7</td><td>3.2</td><td>1.3</td><td>0.2</td><td>Iris-setosa</td></tr><tr><td>4.6</td><td>3.1</td><td>1.5</td><td>0.2</td><td>Iris-setosa</td></tr><tr><td>5.0</td><td>3.6</td><td>1.4</td><td>0.2</td><td>Iris-setosa</td></tr></table>"
      ],
      "text/plain": [
       "\"<table><tr><td>5.1</td><td>3.5</td><td>1.4</td><td>0.2</td><td>Iris-setosa</td></tr><tr><td>4.9</td><td>3.0</td><td>1.4</td><td>0.2</td><td>Iris-setosa</td></tr><tr><td>4.7</td><td>3.2</td><td>1.3</td><td>0.2</td><td>Iris-setosa</td></tr><tr><td>4.6</td><td>3.1</td><td>1.5</td><td>0.2</td><td>Iris-setosa</td></tr><tr><td>5.0</td><td>3.6</td><td>1.4</td><td>0.2</td><td>Iris-setosa</td></tr></table>\""
      ]
     },
     "execution_count": 42,
     "metadata": {},
     "output_type": "execute_result"
    }
   ],
   "source": [
    "csv = CSV.read(\"data/iris.data\")\n",
    "IRuby.table csv[0,5]"
   ]
  },
  {
   "cell_type": "code",
   "execution_count": 43,
   "metadata": {
    "collapsed": false
   },
   "outputs": [
    {
     "data": {
      "text/html": [
       "<table><tr><th>category</th><th>samples</th></tr><tr><td>Iris-setosa</td><td>50</td></tr><tr><td>Iris-versicolor</td><td>50</td></tr><tr><td>Iris-virginica</td><td>50</td></tr></table>"
      ],
      "text/plain": [
       "\"<table><tr><th>category</th><th>samples</th></tr><tr><td>Iris-setosa</td><td>50</td></tr><tr><td>Iris-versicolor</td><td>50</td></tr><tr><td>Iris-virginica</td><td>50</td></tr></table>\""
      ]
     },
     "execution_count": 43,
     "metadata": {},
     "output_type": "execute_result"
    }
   ],
   "source": [
    "x_data = csv.map {|row| row[0,4].map(&:to_f) }.to_nm\n",
    "y_labels = csv.map {|row| row[4] }.to_nm\n",
    "categories = y_labels.to_set\n",
    "\n",
    "counts = categories.map do |category|\n",
    "  x_data.row(y_labels =~ category).rows\n",
    "end\n",
    "\n",
    "IRuby.table(category: categories.to_a, samples: counts)"
   ]
  },
  {
   "cell_type": "code",
   "execution_count": 44,
   "metadata": {
    "collapsed": false
   },
   "outputs": [
    {
     "data": {
      "text/latex": [
       "$$\\left(\\begin{array}{cc}\n",
       "  0.996348871015066&0.003275633202773929\\\\\n",
       "\\end{array}\\right)$$"
      ],
      "text/plain": [
       "#<NMatrix:0x007fee232be5f8 shape:[1,2] dtype:float64 stype:dense>"
      ]
     },
     "execution_count": 44,
     "metadata": {},
     "output_type": "execute_result"
    }
   ],
   "source": [
    "pca = PCA.new components: 2\n",
    "transformed = pca.fit_transform x_data\n",
    "pca.explained_variance_ratio"
   ]
  },
  {
   "cell_type": "code",
   "execution_count": null,
   "metadata": {
    "collapsed": false
   },
   "outputs": [],
   "source": [
    "plot = Nyaplot::Plot.new\n",
    "plot.x_label('PC1')\n",
    "plot.y_label('PC2')\n",
    "plot.legend(true)\n",
    "\n",
    "colors = Nyaplot::Colors.qual\n",
    "\n",
    "categories.each_with_index do |category, i|\n",
    "  samples = transformed.row labels =~ category\n",
    "  sc = plot.add(:scatter, samples.col(0).to_a, samples.col(1).to_a)\n",
    "  sc.color(colors[i])\n",
    "  sc.title(category)\n",
    "end\n",
    "\n",
    "plot"
   ]
  },
  {
   "cell_type": "code",
   "execution_count": null,
   "metadata": {
    "collapsed": true
   },
   "outputs": [],
   "source": []
  }
 ],
 "metadata": {
  "kernelspec": {
   "display_name": "Ruby 2.2.1",
   "language": "ruby",
   "name": "ruby"
  },
  "language_info": {
   "file_extension": "rb",
   "mimetype": "application/x-ruby",
   "name": "ruby",
   "version": "2.2.1"
  }
 },
 "nbformat": 4,
 "nbformat_minor": 0
}
